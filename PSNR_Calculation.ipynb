{
  "nbformat": 4,
  "nbformat_minor": 0,
  "metadata": {
    "colab": {
      "provenance": []
    },
    "kernelspec": {
      "name": "python3",
      "display_name": "Python 3"
    },
    "language_info": {
      "name": "python"
    }
  },
  "cells": [
    {
      "cell_type": "markdown",
      "source": [
        "#Imports"
      ],
      "metadata": {
        "id": "stMqZ3QaRSuo"
      }
    },
    {
      "cell_type": "code",
      "execution_count": 2,
      "metadata": {
        "id": "_hpEkG1nQKqE"
      },
      "outputs": [],
      "source": [
        "from math import log10, sqrt\n",
        "import cv2\n",
        "import numpy as np\n",
        "import random"
      ]
    },
    {
      "cell_type": "markdown",
      "source": [
        "#Function"
      ],
      "metadata": {
        "id": "c-Pj3QqeRUUs"
      }
    },
    {
      "cell_type": "code",
      "source": [
        "def PSNR(original, compressed):\n",
        "    mse = np.mean((original - compressed) ** 2)\n",
        "    if(mse == 0):  # MSE is zero means no noise is present in the signal .\n",
        "                  # Therefore PSNR have no importance.\n",
        "        return 100\n",
        "    max_pixel = 255.0\n",
        "    psnr = 20 * log10(max_pixel / sqrt(mse))\n",
        "    return psnr\n",
        "\n",
        "def main_psnr(ideal_image_path, replica_image_path):\n",
        "     original = cv2.imread(ideal_image_path)\n",
        "     compressed = cv2.imread(replica_image_path, 1)\n",
        "     value = PSNR(original, compressed)\n",
        "\n",
        "     return value\n",
        "\n"
      ],
      "metadata": {
        "id": "-DR0hlZMRV3I"
      },
      "execution_count": 3,
      "outputs": []
    },
    {
      "cell_type": "markdown",
      "source": [
        "#Example"
      ],
      "metadata": {
        "id": "-44RLZXuR594"
      }
    },
    {
      "cell_type": "code",
      "source": [
        "PSNR_value = main_psnr('receiver.png', 'sender.png')\n",
        "print(f'PSNR = {PSNR_value} dB')\n"
      ],
      "metadata": {
        "colab": {
          "base_uri": "https://localhost:8080/"
        },
        "id": "nCWZgksIR5l4",
        "outputId": "eccc95d4-02b7-412e-bce4-ada7691f5ca1"
      },
      "execution_count": 7,
      "outputs": [
        {
          "output_type": "stream",
          "name": "stdout",
          "text": [
            "PSNR = 54.45\n"
          ]
        }
      ]
    }
  ]
}